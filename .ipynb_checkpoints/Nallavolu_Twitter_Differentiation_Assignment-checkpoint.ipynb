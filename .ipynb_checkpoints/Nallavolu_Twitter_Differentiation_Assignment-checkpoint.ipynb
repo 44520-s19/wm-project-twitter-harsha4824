{
 "cells": [
  {
   "cell_type": "markdown",
   "metadata": {},
   "source": [
    "# Harsha Vardhan Reddy Nallavolu\n",
    "## 1. Bebe Rexha - @BebeRexha\n",
    "## 2. Gordon Ramsay - @GordonRamsay\n",
    "## 3. Ed Sheeran - @edsheeran"
   ]
  },
  {
   "cell_type": "markdown",
   "metadata": {},
   "source": [
    "### Retrieved information from Twitter and stored in pickle file "
   ]
  },
  {
   "cell_type": "code",
   "execution_count": 1,
   "metadata": {},
   "outputs": [],
   "source": [
    "import tweepy\n",
    "from twitter_keys import consumer_key, consumer_secret, access_token, access_secret\n",
    "import pickle\n",
    "\n",
    "auth = tweepy.OAuthHandler(consumer_key, consumer_secret)\n",
    "auth.set_access_token(access_token, access_secret)\n",
    "\n",
    "api = tweepy.API(auth)\n",
    "\n",
    "# Bebe Rexha tweets are dumped in 'beberexha_tweets.pkl' in binary format\n",
    "public1_tweets = api.user_timeline('BebeRexha')\n",
    "\n",
    "with open('beberexha_tweets.pkl', 'wb') as f:\n",
    "    pickle.dump(public1_tweets, f)\n",
    "\n",
    "# Gordon Ramsay tweets are dumped in 'gordonramsay_tweets.pkl' in binary format\n",
    "public2_tweets = api.user_timeline('GordonRamsay')\n",
    "\n",
    "with open('gordonramsay_tweets.pkl', 'wb') as f:\n",
    "    pickle.dump(public2_tweets, f)\n",
    "    \n",
    "# Ed Sheeran tweets are dumped in 'edsheeran_tweets.pkl' in binary format\n",
    "public3_tweets = api.user_timeline('edsheeran')\n",
    "\n",
    "with open('edsheeran_tweets.pkl', 'wb') as f:\n",
    "    pickle.dump(public3_tweets, f)"
   ]
  },
  {
   "cell_type": "markdown",
   "metadata": {},
   "source": [
    "### Load cached data from pickle files"
   ]
  },
  {
   "cell_type": "code",
   "execution_count": 2,
   "metadata": {},
   "outputs": [],
   "source": [
    "import pickle\n",
    "\n",
    "# Bebe Rexha pickled file is loaded\n",
    "with open('beberexha_tweets.pkl', 'rb') as f:\n",
    "    public1_tweets = pickle.load(f)\n",
    "\n",
    "# Gordon ramsay pickled file is loaded\n",
    "with open('gordonramsay_tweets.pkl', 'rb') as f:\n",
    "    public2_tweets = pickle.load(f)\n",
    "\n",
    "# Ed Sheeran pickled file is loaded\n",
    "with open('edsheeran_tweets.pkl', 'rb') as f:\n",
    "    public3_tweets = pickle.load(f)"
   ]
  },
  {
   "cell_type": "markdown",
   "metadata": {},
   "source": [
    "## Analysis \n",
    "* Lexical diversity refers to the ratio of different unique words to the total number of words\n",
    "* Lexical diversity is defined which returns Lexical diversity of each tweet taking tweets text\n",
    "*  For better analysis plotted lexical diversity of three twitter accounts using Matplotlib."
   ]
  },
  {
   "cell_type": "code",
   "execution_count": 13,
   "metadata": {},
   "outputs": [
    {
     "name": "stdout",
     "output_type": "stream",
     "text": [
      "lexical diversity of Bebe Rexha:  0.8260869565217391\n",
      "lexical diversity of Gordon Ramsay:  1.0\n",
      "lexical diversity of Ed Sheeran:  1.0\n"
     ]
    }
   ],
   "source": [
    "# Bebe Rexha\n",
    "tweet1 = public1_tweets[0]\n",
    "tokens1 = tweet1.text.split()\n",
    "lower1_tokens = [s.lower() for s in tokens1]\n",
    "unique1_lower = set(lower1_tokens)\n",
    "def lexical_diversity(text):\n",
    "    tokens1 = text.lower().split()\n",
    "    return len(set(tokens1))/len(tokens1)\n",
    "print('lexical diversity of Bebe Rexha: ',lexical_diversity(public1_tweets[18].text ))\n",
    "\n",
    "\n",
    "# Gordon Ramsay\n",
    "\n",
    "tweet2 = public2_tweets[0]\n",
    "token2 = tweet2.text.split()\n",
    "lower2_tokens = [s.lower() for s in token2]\n",
    "unique2_lower = set(lower2_tokens)\n",
    "def lexical_diversity(text):\n",
    "    tokens2 = text.lower().split()\n",
    "    return len(set(tokens2))/len(tokens2)\n",
    "print('lexical diversity of Gordon Ramsay: ',lexical_diversity(public2_tweets[9].text))\n",
    "\n",
    "# Ed Sheeran\n",
    "\n",
    "tweet3 = public3_tweets[0]\n",
    "tokens3 = tweet3.text.split()\n",
    "lower3_tokens = [s.lower() for s in tokens3]\n",
    "unique3_lower = set(lower3_tokens)\n",
    "def lexical_diversity(text):\n",
    "    tokens3 = text.lower().split()\n",
    "    return len(set(tokens3))/len(tokens3)\n",
    "print('lexical diversity of Ed Sheeran: ',lexical_diversity(public3_tweets[5].text))"
   ]
  },
  {
   "cell_type": "markdown",
   "metadata": {},
   "source": [
    "## Presentation of results using Matplotlib"
   ]
  },
  {
   "cell_type": "code",
   "execution_count": 6,
   "metadata": {},
   "outputs": [
    {
     "data": {
      "image/png": "[encoded data removed]",
      "text/plain": [
       "<Figure size 432x288 with 1 Axes>"
      ]
     },
     "metadata": {
      "needs_background": "light"
     },
     "output_type": "display_data"
    }
   ],
   "source": [
    "import matplotlib.pyplot as plt\n",
    "import numpy as np\n",
    "obj = ('Bebe_Rexha', 'Gordon_ramsay', 'Ed_Sheeran')\n",
    "y_pos = np.arange(len(obj))\n",
    "h = [lexical_diversity(public1_tweets[18].text), lexical_diversity(public2_tweets[6].text), lexical_diversity(public3_tweets[1].text)]\n",
    "\n",
    "plt.bar(y_pos, h, align='center')\n",
    "plt.xticks(y_pos, obj)\n",
    "plt.ylabel('Lexical Diversity')\n",
    "plt.title('Diversity Comparision ')\n",
    "\n",
    "plt.show()"
   ]
  },
  {
   "cell_type": "markdown",
   "metadata": {},
   "source": [
    "## Conclusion:\n",
    "* From the the above bar graph the heighest lexical diversity is for 'Ed Sheeran' and 'Gordon Ramsay' and the least lexical diversity is for 'Bebe Rexha'.\n",
    "* So there isn't much variation between 'Ed Sheeran' and 'Gordon Ramsay' in lexical diversity, therefore I did another comaprison and the results are shown below"
   ]
  },
  {
   "cell_type": "markdown",
   "metadata": {},
   "source": [
    "## Favourite count calculation"
   ]
  },
  {
   "cell_type": "code",
   "execution_count": 12,
   "metadata": {},
   "outputs": [
    {
     "name": "stdout",
     "output_type": "stream",
     "text": [
      "Facourite count of Bebe Rexha:  2744\n",
      "Facourite count of Gordon Ramsay:  1436\n",
      "Facourite count of Ed Sheeran:  21366\n"
     ]
    }
   ],
   "source": [
    "print('Facourite count of Bebe Rexha: ',public1_tweets[16].favorite_count)\n",
    "print('Facourite count of Gordon Ramsay: ',public2_tweets[16].favorite_count)\n",
    "print('Facourite count of Ed Sheeran: ',public3_tweets[16].favorite_count)"
   ]
  },
  {
   "cell_type": "markdown",
   "metadata": {},
   "source": [
    "## Favourite count analysis\n",
    "* Favourite count refers to liking or loving a tweet posted by another user.\n",
    "* I calculated a particular tweet favourite by using favourite_count method.\n",
    "* Based on the favourite count I plotted the results in a bar chart."
   ]
  },
  {
   "cell_type": "code",
   "execution_count": 7,
   "metadata": {},
   "outputs": [
    {
     "data": {
      "image/png": "[encoded data removed]",
      "text/plain": [
       "<Figure size 432x288 with 1 Axes>"
      ]
     },
     "metadata": {
      "needs_background": "light"
     },
     "output_type": "display_data"
    }
   ],
   "source": [
    "import matplotlib.pyplot as plt\n",
    "import numpy as np\n",
    "obj = ('Bebe_Rexha', 'Gordon_ramsay', 'Ed_Sheeran')\n",
    "y_pos = np.arange(len(obj))\n",
    "g = [public1_tweets[7].favorite_count, public2_tweets[2].favorite_count, public3_tweets[0].favorite_count]\n",
    "\n",
    "plt.bar(y_pos, g, align='center')\n",
    "plt.xticks(y_pos, obj)\n",
    "plt.ylabel('Favourite Count')\n",
    "plt.title('Favourite Comparision')\n",
    "\n",
    "plt.show()"
   ]
  },
  {
   "cell_type": "markdown",
   "metadata": {},
   "source": [
    "## Conclusion:\n",
    "* By looking at the favourite count we can clearly distingusih the twitter accounts.\n",
    "* The highest no of likes are for 'Ed Sheeran' account.\n",
    "* The least likes are for 'Gordon Ramsay' acoount.\n",
    "* The third account 'Bebe Rexha' has good no of like."
   ]
  },
  {
   "cell_type": "code",
   "execution_count": null,
   "metadata": {},
   "outputs": [],
   "source": []
  }
 ],
 "metadata": {
  "kernelspec": {
   "display_name": "Python 3",
   "language": "python",
   "name": "python3"
  },
  "language_info": {
   "codemirror_mode": {
    "name": "ipython",
    "version": 3
   },
   "file_extension": ".py",
   "mimetype": "text/x-python",
   "name": "python",
   "nbconvert_exporter": "python",
   "pygments_lexer": "ipython3",
   "version": "3.7.3"
  }
 },
 "nbformat": 4,
 "nbformat_minor": 2
}
