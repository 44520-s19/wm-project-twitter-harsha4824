{
 "cells": [
  {
   "cell_type": "markdown",
   "metadata": {},
   "source": [
    "# Harsha Vardhan Reddy Nallavolu\n",
    "## 1. Jay Shetty - @jayShettyIW\n",
    "## 2. Gordon Ramsay - @GordonRamsay\n",
    "## 3. Faisal Khan - @FasBeam"
   ]
  },
  {
   "cell_type": "markdown",
   "metadata": {},
   "source": [
    "### Pickling files"
   ]
  },
  {
   "cell_type": "code",
   "execution_count": 21,
   "metadata": {},
   "outputs": [],
   "source": [
    "import tweepy\n",
    "from twitter_keys import consumer_key, consumer_secret, access_token, access_secret\n",
    "import pickle\n",
    "\n",
    "auth = tweepy.OAuthHandler(consumer_key, consumer_secret)\n",
    "auth.set_access_token(access_token, access_secret)\n",
    "\n",
    "api = tweepy.API(auth)\n",
    "\n",
    "public1_tweets = api.user_timeline('jayShettyIW')\n",
    "\n",
    "# Jay Shetty\n",
    "with open('jayshetty_tweets.pkl', 'wb') as f:\n",
    "    pickle.dump(public1_tweets, f)\n",
    "\n",
    "# Gordon Ramsay\n",
    "public2_tweets = api.user_timeline('GordonRamsay')\n",
    "\n",
    "with open('gordonramsay_tweets.pkl', 'wb') as f:\n",
    "    pickle.dump(public2_tweets, f)\n",
    "    \n",
    "# Faisal Khan\n",
    "public3_tweets = api.user_timeline('FasBeam')\n",
    "\n",
    "with open('faisal_khan_tweets.pkl', 'wb') as f:\n",
    "    pickle.dump(public3_tweets, f)"
   ]
  },
  {
   "cell_type": "markdown",
   "metadata": {},
   "source": [
    "### Loading pickled files"
   ]
  },
  {
   "cell_type": "code",
   "execution_count": 78,
   "metadata": {},
   "outputs": [],
   "source": [
    "import pickle\n",
    "\n",
    "# Jay shetty\n",
    "with open('jayshetty_tweets.pkl', 'rb') as f:\n",
    "    public1_tweets = pickle.load(f)\n",
    "\n",
    "# Gordon ramsay\n",
    "with open('gordonramsay_tweets.pkl', 'rb') as f:\n",
    "    public2_tweets = pickle.load(f)\n",
    "\n",
    "# Faisal Khan\n",
    "with open('faisal_khan_tweets.pkl', 'rb') as f:\n",
    "    public3_tweets = pickle.load(f)"
   ]
  },
  {
   "cell_type": "code",
   "execution_count": 81,
   "metadata": {},
   "outputs": [
    {
     "name": "stdout",
     "output_type": "stream",
     "text": [
      "0.7142857142857143\n",
      "0.9090909090909091\n",
      "1.0\n"
     ]
    }
   ],
   "source": [
    "# Jay Shetty\n",
    "\n",
    "tweet1 = public1_tweets[0]\n",
    "tokens1 = tweet1.text.split()\n",
    "lower1_tokens = [s.lower() for s in tokens1]\n",
    "unique1_lower = set(lower1_tokens)\n",
    "def lexical_diversity(text):\n",
    "    tokens1 = text.lower().split()\n",
    "    return len(set(tokens1))/len(tokens1)\n",
    "print(lexical_diversity(public1_tweets[1].text ))\n",
    "\n",
    "# Gordon Ramsay\n",
    "\n",
    "tweet2 = public2_tweets[0]\n",
    "token2 = tweet2.text.split()\n",
    "lower2_tokens = [s.lower() for s in token2]\n",
    "unique2_lower = set(lower2_tokens)\n",
    "def lexical_diversity(text):\n",
    "    tokens2 = text.lower().split()\n",
    "    return len(set(tokens2))/len(tokens2)\n",
    "print(lexical_diversity(public2_tweets[6].text))\n",
    "\n",
    "# Faisal Khan\n",
    "\n",
    "tweet3 = public3_tweets[0]\n",
    "tokens3 = tweet3.text.split()\n",
    "lower3_tokens = [s.lower() for s in tokens3]\n",
    "unique3_lower = set(lower3_tokens)\n",
    "def lexical_diversity(text):\n",
    "    tokens3 = text.lower().split()\n",
    "    return len(set(tokens3))/len(tokens3)\n",
    "print(lexical_diversity(public3_tweets[13].text))"
   ]
  },
  {
   "cell_type": "code",
   "execution_count": 82,
   "metadata": {},
   "outputs": [
    {
     "data": {
      "image/png": "[encoded data removed]",
      "text/plain": [
       "<Figure size 432x288 with 1 Axes>"
      ]
     },
     "metadata": {
      "needs_background": "light"
     },
     "output_type": "display_data"
    }
   ],
   "source": [
    "import matplotlib.pyplot as plt\n",
    "import numpy as np\n",
    "obj = ('Jay_shetty', 'Gordon_ramsay', 'Faisal_Khan')\n",
    "y_pos = np.arange(len(obj))\n",
    "h = [lexical_diversity(public1_tweets[1].text), lexical_diversity(public2_tweets[6].text), lexical_diversity(public3_tweets[13].text)]\n",
    "\n",
    "plt.bar(y_pos, h, align='center')\n",
    "plt.xticks(y_pos, obj)\n",
    "plt.ylabel('Lexical Diversity')\n",
    "plt.title('Diversity Comparision ')\n",
    "\n",
    "plt.show()"
   ]
  },
  {
   "cell_type": "markdown",
   "metadata": {},
   "source": [
    "## Conclusion:\n",
    "From the the above bar graph the heighest lexical diversity is for 'Faisal Khan' followed by 'Gordon Ramsay' and the least lexical diversity of all is for 'Jay Shetty'."
   ]
  },
  {
   "cell_type": "code",
   "execution_count": null,
   "metadata": {},
   "outputs": [],
   "source": []
  }
 ],
 "metadata": {
  "kernelspec": {
   "display_name": "Python 3",
   "language": "python",
   "name": "python3"
  },
  "language_info": {
   "codemirror_mode": {
    "name": "ipython",
    "version": 3
   },
   "file_extension": ".py",
   "mimetype": "text/x-python",
   "name": "python",
   "nbconvert_exporter": "python",
   "pygments_lexer": "ipython3",
   "version": "3.7.3"
  }
 },
 "nbformat": 4,
 "nbformat_minor": 2
}
